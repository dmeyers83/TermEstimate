{
 "cells": [
  {
   "cell_type": "code",
   "execution_count": 1,
   "metadata": {},
   "outputs": [],
   "source": [
    "\n",
    "import pandas as pd\n",
    "import numpy as np \n",
    "import statsmodels.api as sm\n",
    "import statsmodels.formula.api as smf\n",
    "import statsmodels.api as sm\n",
    "from sklearn import preprocessing\n",
    "import matplotlib.pyplot as plt"
   ]
  },
  {
   "cell_type": "code",
   "execution_count": 5,
   "metadata": {},
   "outputs": [],
   "source": [
    "keyword_df = pd.read_csv('IT2_Keywords_granular.csv')"
   ]
  },
  {
   "cell_type": "code",
   "execution_count": 6,
   "metadata": {},
   "outputs": [
    {
     "data": {
      "text/html": [
       "<div>\n",
       "<style scoped>\n",
       "    .dataframe tbody tr th:only-of-type {\n",
       "        vertical-align: middle;\n",
       "    }\n",
       "\n",
       "    .dataframe tbody tr th {\n",
       "        vertical-align: top;\n",
       "    }\n",
       "\n",
       "    .dataframe thead th {\n",
       "        text-align: right;\n",
       "    }\n",
       "</style>\n",
       "<table border=\"1\" class=\"dataframe\">\n",
       "  <thead>\n",
       "    <tr style=\"text-align: right;\">\n",
       "      <th></th>\n",
       "      <th>Unnamed: 0</th>\n",
       "      <th>keyword</th>\n",
       "      <th>Score</th>\n",
       "      <th>POS</th>\n",
       "      <th>query</th>\n",
       "      <th>time</th>\n",
       "    </tr>\n",
       "  </thead>\n",
       "  <tbody>\n",
       "    <tr>\n",
       "      <th>0</th>\n",
       "      <td>0</td>\n",
       "      <td>adjustments</td>\n",
       "      <td>0.157</td>\n",
       "      <td>Noun</td>\n",
       "      <td>Technology Project Manager</td>\n",
       "      <td>2020-02-09 17:57:52.192017</td>\n",
       "    </tr>\n",
       "    <tr>\n",
       "      <th>1</th>\n",
       "      <td>1</td>\n",
       "      <td>updates consistent</td>\n",
       "      <td>0.100</td>\n",
       "      <td>Noun</td>\n",
       "      <td>Technology Project Manager</td>\n",
       "      <td>2020-02-09 17:57:52.192017</td>\n",
       "    </tr>\n",
       "    <tr>\n",
       "      <th>2</th>\n",
       "      <td>2</td>\n",
       "      <td>type renewal</td>\n",
       "      <td>0.100</td>\n",
       "      <td>Noun</td>\n",
       "      <td>Technology Project Manager</td>\n",
       "      <td>2020-02-09 17:57:52.192017</td>\n",
       "    </tr>\n",
       "    <tr>\n",
       "      <th>3</th>\n",
       "      <td>3</td>\n",
       "      <td>track costs</td>\n",
       "      <td>0.100</td>\n",
       "      <td>Noun</td>\n",
       "      <td>Technology Project Manager</td>\n",
       "      <td>2020-02-09 17:57:52.192017</td>\n",
       "    </tr>\n",
       "    <tr>\n",
       "      <th>4</th>\n",
       "      <td>4</td>\n",
       "      <td>tools methodologies</td>\n",
       "      <td>0.100</td>\n",
       "      <td>Noun</td>\n",
       "      <td>Technology Project Manager</td>\n",
       "      <td>2020-02-09 17:57:52.192017</td>\n",
       "    </tr>\n",
       "  </tbody>\n",
       "</table>\n",
       "</div>"
      ],
      "text/plain": [
       "   Unnamed: 0              keyword  Score   POS                       query  \\\n",
       "0           0          adjustments  0.157  Noun  Technology Project Manager   \n",
       "1           1   updates consistent  0.100  Noun  Technology Project Manager   \n",
       "2           2         type renewal  0.100  Noun  Technology Project Manager   \n",
       "3           3          track costs  0.100  Noun  Technology Project Manager   \n",
       "4           4  tools methodologies  0.100  Noun  Technology Project Manager   \n",
       "\n",
       "                         time  \n",
       "0  2020-02-09 17:57:52.192017  \n",
       "1  2020-02-09 17:57:52.192017  \n",
       "2  2020-02-09 17:57:52.192017  \n",
       "3  2020-02-09 17:57:52.192017  \n",
       "4  2020-02-09 17:57:52.192017  "
      ]
     },
     "execution_count": 6,
     "metadata": {},
     "output_type": "execute_result"
    }
   ],
   "source": [
    "keyword_df.head()"
   ]
  },
  {
   "cell_type": "code",
   "execution_count": 7,
   "metadata": {},
   "outputs": [
    {
     "data": {
      "text/plain": [
       "array(['Technology Project Manager', 'Technology Product Manager',\n",
       "       'Data Scientist', 'DevOps Engineer', 'Software Engineer',\n",
       "       'Data Engineer', 'Solutions Architect', 'Data Analyst',\n",
       "       'Full Stack Developer', 'Development Manager', 'CTO', 'CIO',\n",
       "       'Security Engineer', 'Mobile Application Developer',\n",
       "       'Senior Web Developer', 'Cloud Solutions Architect',\n",
       "       'Information Technology Manager', 'Applications Architect',\n",
       "       'Big data engineer', 'Information systems security manager',\n",
       "       'Data security analyst'], dtype=object)"
      ]
     },
     "execution_count": 7,
     "metadata": {},
     "output_type": "execute_result"
    }
   ],
   "source": [
    "keyword_df[\"query\"].unique()"
   ]
  },
  {
   "cell_type": "code",
   "execution_count": 9,
   "metadata": {},
   "outputs": [],
   "source": [
    "salary_df = pd.read_csv('job_avg_salaries.csv')"
   ]
  },
  {
   "cell_type": "code",
   "execution_count": 10,
   "metadata": {},
   "outputs": [
    {
     "data": {
      "text/html": [
       "<div>\n",
       "<style scoped>\n",
       "    .dataframe tbody tr th:only-of-type {\n",
       "        vertical-align: middle;\n",
       "    }\n",
       "\n",
       "    .dataframe tbody tr th {\n",
       "        vertical-align: top;\n",
       "    }\n",
       "\n",
       "    .dataframe thead th {\n",
       "        text-align: right;\n",
       "    }\n",
       "</style>\n",
       "<table border=\"1\" class=\"dataframe\">\n",
       "  <thead>\n",
       "    <tr style=\"text-align: right;\">\n",
       "      <th></th>\n",
       "      <th>Job_Tittle</th>\n",
       "      <th>Domain</th>\n",
       "      <th>Date</th>\n",
       "      <th>Avg_Salary</th>\n",
       "    </tr>\n",
       "  </thead>\n",
       "  <tbody>\n",
       "    <tr>\n",
       "      <th>0</th>\n",
       "      <td>Technology Project Manager</td>\n",
       "      <td>Information Technology</td>\n",
       "      <td>2020-02-09</td>\n",
       "      <td>103175</td>\n",
       "    </tr>\n",
       "    <tr>\n",
       "      <th>1</th>\n",
       "      <td>Technology Product Manager</td>\n",
       "      <td>Information Technology</td>\n",
       "      <td>2020-02-09</td>\n",
       "      <td>106838</td>\n",
       "    </tr>\n",
       "    <tr>\n",
       "      <th>2</th>\n",
       "      <td>Data Scientist</td>\n",
       "      <td>Information Technology</td>\n",
       "      <td>2020-02-09</td>\n",
       "      <td>123253</td>\n",
       "    </tr>\n",
       "    <tr>\n",
       "      <th>3</th>\n",
       "      <td>DevOps Engineer</td>\n",
       "      <td>Information Technology</td>\n",
       "      <td>2020-02-09</td>\n",
       "      <td>126982</td>\n",
       "    </tr>\n",
       "    <tr>\n",
       "      <th>4</th>\n",
       "      <td>Software Engineer</td>\n",
       "      <td>Information Technology</td>\n",
       "      <td>2020-02-09</td>\n",
       "      <td>107254</td>\n",
       "    </tr>\n",
       "  </tbody>\n",
       "</table>\n",
       "</div>"
      ],
      "text/plain": [
       "                   Job_Tittle                  Domain        Date Avg_Salary\n",
       "0  Technology Project Manager  Information Technology  2020-02-09     103175\n",
       "1  Technology Product Manager  Information Technology  2020-02-09     106838\n",
       "2              Data Scientist  Information Technology  2020-02-09     123253\n",
       "3             DevOps Engineer  Information Technology  2020-02-09     126982\n",
       "4           Software Engineer  Information Technology  2020-02-09     107254"
      ]
     },
     "execution_count": 10,
     "metadata": {},
     "output_type": "execute_result"
    }
   ],
   "source": [
    "salary_df.head()"
   ]
  },
  {
   "cell_type": "code",
   "execution_count": 11,
   "metadata": {},
   "outputs": [
    {
     "ename": "TypeError",
     "evalue": "'DataFrame' object is not callable",
     "output_type": "error",
     "traceback": [
      "\u001b[1;31m---------------------------------------------------------------------------\u001b[0m",
      "\u001b[1;31mTypeError\u001b[0m                                 Traceback (most recent call last)",
      "\u001b[1;32m<ipython-input-11-56603900fa6c>\u001b[0m in \u001b[0;36m<module>\u001b[1;34m()\u001b[0m\n\u001b[1;32m----> 1\u001b[1;33m \u001b[0mkeyword_df\u001b[0m\u001b[1;33m(\u001b[0m\u001b[1;33m[\u001b[0m\u001b[1;34m'keyword'\u001b[0m\u001b[1;33m,\u001b[0m \u001b[1;34m'POS'\u001b[0m\u001b[1;33m,\u001b[0m \u001b[1;34m'time'\u001b[0m\u001b[1;33m,\u001b[0m \u001b[1;34m'query'\u001b[0m\u001b[1;33m]\u001b[0m\u001b[1;33m,\u001b[0m \u001b[0mas_index\u001b[0m\u001b[1;33m=\u001b[0m\u001b[1;32mFalse\u001b[0m\u001b[1;33m)\u001b[0m\u001b[1;33m[\u001b[0m\u001b[1;34m'Score'\u001b[0m\u001b[1;33m]\u001b[0m\u001b[1;33m.\u001b[0m\u001b[0magg\u001b[0m\u001b[1;33m(\u001b[0m\u001b[1;33m{\u001b[0m\u001b[1;34m\"keyword_count\"\u001b[0m\u001b[1;33m:\u001b[0m \u001b[1;34m\"count\"\u001b[0m\u001b[1;33m}\u001b[0m\u001b[1;33m)\u001b[0m\u001b[1;33m.\u001b[0m\u001b[0msort_values\u001b[0m\u001b[1;33m(\u001b[0m\u001b[1;33m[\u001b[0m\u001b[1;34m'keyword_count'\u001b[0m\u001b[1;33m]\u001b[0m\u001b[1;33m,\u001b[0m \u001b[0mascending\u001b[0m\u001b[1;33m=\u001b[0m\u001b[1;32mFalse\u001b[0m\u001b[1;33m)\u001b[0m\u001b[1;33m\u001b[0m\u001b[0m\n\u001b[0m",
      "\u001b[1;31mTypeError\u001b[0m: 'DataFrame' object is not callable"
     ]
    }
   ],
   "source": [
    "keyword_df(['keyword', 'POS', 'time', 'query'], as_index=False)['Score'].agg({\"keyword_count\": \"count\"}).sort_values(['keyword_count'], ascending=False)"
   ]
  },
  {
   "cell_type": "code",
   "execution_count": null,
   "metadata": {},
   "outputs": [],
   "source": []
  }
 ],
 "metadata": {
  "kernelspec": {
   "display_name": "Python 3",
   "language": "python",
   "name": "python3"
  },
  "language_info": {
   "codemirror_mode": {
    "name": "ipython",
    "version": 3
   },
   "file_extension": ".py",
   "mimetype": "text/x-python",
   "name": "python",
   "nbconvert_exporter": "python",
   "pygments_lexer": "ipython3",
   "version": "3.6.4"
  }
 },
 "nbformat": 4,
 "nbformat_minor": 2
}
